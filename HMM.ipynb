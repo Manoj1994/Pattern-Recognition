{
 "cells": [
  {
   "cell_type": "code",
   "execution_count": 166,
   "metadata": {},
   "outputs": [],
   "source": [
    "import numpy as np\n",
    "chardict = {\"A\":0,\"B\":1,\"C\":2,\"D\":3}"
   ]
  },
  {
   "cell_type": "code",
   "execution_count": 167,
   "metadata": {},
   "outputs": [],
   "source": [
    "strs1 = ['AABBCCDD', 'ABBCBBDD', 'ACBCBCD', 'AD', 'ACBCBABCDD',\n",
    "         'BABAADDD', 'BABCDCC', 'ABDBBCCDD', 'ABAAACDCCD', 'ABD']"
   ]
  },
  {
   "cell_type": "code",
   "execution_count": 168,
   "metadata": {},
   "outputs": [],
   "source": [
    "strs2 = ['DDCCBBAA', 'DDABCBA', 'CDCDCBABA', 'DDBBA', 'DADACBBAA',\n",
    "         'CDDCCBA', 'BDDBCAAAA', 'BBABBDDDCD', 'DDADDBCAA', 'DDCAAA']"
   ]
  },
  {
   "cell_type": "code",
   "execution_count": 169,
   "metadata": {
    "scrolled": true
   },
   "outputs": [],
   "source": [
    "def parameter_estimation_per_string(s, transition, observation, pie):\n",
    "## Expectation \n",
    "    alpha = np.zeros((3, len(s)))\n",
    "    beta = np.zeros((3, len(s)))\n",
    "    gamma = np.zeros((3, len(s)))\n",
    "    zeta = np.zeros((3, 3, len(s)))\n",
    "    pie1 = np.zeros(3)\n",
    "    observation1 = np.zeros((3, 4))\n",
    "    transition1 = np.zeros((3, 3))\n",
    "\n",
    "    ## computing alpha\n",
    "    for t, c in enumerate(s):\n",
    "        for i in range(0,3):\n",
    "            if t == 0:\n",
    "                alpha[i,0] = pie[i]*observation[i, chardict[s[0]]]\n",
    "            else:\n",
    "                total_sum = 0\n",
    "                for j in range(0,3):\n",
    "                    total_sum += (alpha[j,t-1] * transition[j,i])\n",
    "                alpha[i,t] = observation[i,chardict[c]] * total_sum\n",
    "\n",
    "    # computing beta\n",
    "    T = len(s)-1\n",
    "    for x, c in enumerate(s):\n",
    "        for i in range(0,3):\n",
    "            t = T-x\n",
    "            if t == T:\n",
    "                beta[i, t] = 1\n",
    "            else:\n",
    "                total_sum = 0\n",
    "                for j in range(0,3):\n",
    "                    total_sum += (beta[j,t+1] * transition[i,j] \n",
    "                                  * observation[j, chardict[s[t+1]]])\n",
    "                beta[i, t] = total_sum\n",
    "                \n",
    "    prob_s = 0\n",
    "    T = len(s)-1    \n",
    "    for i in range(0,3):\n",
    "        prob_s += alpha[i, T]\n",
    "\n",
    "    #print(\"######Gamma###########\")\n",
    "    for t, c in enumerate(s):\n",
    "        for i in range(0, 3):\n",
    "            gamma[i, t] = (alpha[i, t] * beta[i, t]) / prob_s\n",
    "            #print(gamma[i, t], end= \" \")\n",
    "        #print()\n",
    "\n",
    "    #print(\"######Zeta###########\")\n",
    "\n",
    "    for t, c in enumerate(s):\n",
    "        if(t!=len(s)-1):\n",
    "            for i in range(0, 3):\n",
    "                for j in range(0, 3):\n",
    "                    zeta[i, j, t] = ((alpha[i, t] * transition[i, j]) \n",
    "                                     * (beta[j, t+1] * observation[j, chardict[s[t+1]]])) / prob_s\n",
    "\n",
    "    #print(\"#####Updated start probabilities\")\n",
    "        #print(pie1[i], end=\" \")\n",
    "    #print()\n",
    "    \n",
    "    zetaOutNum = np.zeros((3,3))\n",
    "    gammaOutTransDenom = np.zeros(3)\n",
    "    gammaOutObsDenom = np.zeros(3)\n",
    "    gammaOutObsNum = np.zeros((3,4))\n",
    "\n",
    "    #print(\"###########Updated transistion matrix\")\n",
    "    \n",
    "    for i in range(0, 3):\n",
    "        for t, c in enumerate(s):\n",
    "             if t!=T:\n",
    "                gammaOutTransDenom[i] += gamma[i, t]\n",
    "    \n",
    "    for i in range(0, 3):\n",
    "        for j in range(0, 3):\n",
    "            for t, c in enumerate(s):\n",
    "                if t!=T:\n",
    "                    zetaOutNum[i,j] += zeta[i, j, t]\n",
    "                    \n",
    "    for i in range(0, 3):\n",
    "        for t, c in enumerate(s):\n",
    "            gammaOutObsDenom[i] += gamma[i, t]\n",
    "                    \n",
    "    for i in range(0,3):\n",
    "        for t,c in enumerate(s):\n",
    "                gammaOutObsNum[i, chardict[c]] += gamma[i, t]\n",
    "                \n",
    "    for i in range(0,3):\n",
    "        pie1[i] = gamma[i, 0] / prob_s\n",
    "    \n",
    "    return zetaOutNum, gammaOutTransDenom, gammaOutObsNum, gammaOutObsDenom, pie1, 1/prob_s\n",
    "\n",
    "    "
   ]
  },
  {
   "cell_type": "code",
   "execution_count": 178,
   "metadata": {},
   "outputs": [
    {
     "name": "stdout",
     "output_type": "stream",
     "text": [
      "Total Iterations :  34\n",
      "#####Transition matrix######\n",
      "0.3751147707145016 0.3328520763356431 0.29203315294985527 \n",
      "1.1478609137498578e-12 0.9098581257271908 0.09014187427166127 \n",
      "0.31417818185361934 0.6828005241779244 0.0030212939684563338 \n",
      "#####Observation matrix######\n",
      "0.8290323708475977 0.17096718439551029 4.4475682101026104e-07 7.105119696295795e-14 \n",
      "3.246799242270759e-14 0.17745906913302117 0.3995190002194299 0.4230219306475166 \n",
      "0.0003759151752028186 0.9995097919756247 5.917635230979648e-05 5.5116496862800854e-05 \n"
     ]
    }
   ],
   "source": [
    "transition_w1 = np.matrix([[0.3, 0.4, 0.4], \n",
    "               [0.4, 0.2, 0.4],\n",
    "               [0.5, 0.3, 0.2]])\n",
    "observation_w1 = np.matrix([[0.4, 0.1, 0.4, 0.1], \n",
    "               [0.1, 0.3, 0.4, 0.2],\n",
    "               [0.4, 0.2, 0.2, 0.2]])\n",
    "pie_w1 = np.array([0.33, 0.33, 0.33])\n",
    "prev_transition_w1 = np.zeros((3, 3))\n",
    "prev_observation_w1 = np.zeros((3, 4))\n",
    "prev_pie_w1 = np.zeros(3)\n",
    "threshold = 0.001\n",
    "\n",
    "n = 1\n",
    "while True:\n",
    "    \n",
    "    prev_transition_w1 = np.copy(transition_w1)\n",
    "    prev_observation_w1 = np.copy(observation_w1)\n",
    "    prev_pie_w1 = np.copy(pie_w1)\n",
    "    \n",
    "    trans_num = np.zeros((3,3))\n",
    "    trans_denom = np.zeros(3)\n",
    "    obs_num = np.zeros((3, 4))\n",
    "    obs_denom = np.zeros(3)\n",
    "    pie_num = np.zeros(3)\n",
    "    pie_denom = 0\n",
    "\n",
    "    for s in strs1:\n",
    "        trans_num_temp, trans_denom_temp, obs_num_temp, obs_denom_temp, pie_num_temp, pie_denom_temp = parameter_estimation_per_string(s, transition_w1, observation_w1, pie_w1)\n",
    "        trans_num = np.add(trans_num, trans_num_temp)\n",
    "        trans_denom = np.add(trans_denom, trans_denom_temp)\n",
    "        obs_num = np.add(obs_num, obs_num_temp)\n",
    "        obs_denom = np.add(obs_denom, obs_denom_temp)\n",
    "        pie_num = np.add(pie_num, pie_num_temp)\n",
    "        pie_denom += pie_denom_temp\n",
    "\n",
    "    for i in range(0, 3):\n",
    "        for j in range(0, 3):\n",
    "            transition_w1[i, j] = trans_num[i,j] / trans_denom[i]\n",
    "            \n",
    "    count = 0\n",
    "    \n",
    "    for i in range(0, 3):\n",
    "        for j in range(0, 3):\n",
    "            if abs(transition_w1[i,j] - prev_transition_w1[i, j]) <= threshold:\n",
    "                count = count+1\n",
    "        \n",
    "\n",
    "    for i in range(0, 3):\n",
    "        for j in range(0, 4):\n",
    "            observation_w1[i, j] = obs_num[i,j] / obs_denom[i]\n",
    "            \n",
    "    for i in range(0, 3):\n",
    "        pie_w1[i] =  pie_num[i] / pie_denom\n",
    "            \n",
    "    if(count/9 >= 0.95):\n",
    "        break\n",
    "    n += 1\n",
    "    \n",
    "print(\"Total Iterations : \", n)\n",
    "print(\"#####Transition matrix######\")\n",
    "for i in range(0,3):\n",
    "    for j in range(0,3):\n",
    "        print(transition_w1[i,j], end=\" \")\n",
    "    print()\n",
    "    \n",
    "print(\"#####Observation matrix######\")\n",
    "for i in range(0,3):\n",
    "    for j in range(0,4):\n",
    "        print(observation_w1[i,j], end=\" \")\n",
    "    print()\n"
   ]
  },
  {
   "cell_type": "code",
   "execution_count": 179,
   "metadata": {},
   "outputs": [
    {
     "name": "stdout",
     "output_type": "stream",
     "text": [
      "Total Iterations :  49\n",
      "#####Transition matrix######\n",
      "0.9133352005005944 1.7170383427527758e-08 0.08666478232902212 \n",
      "0.6551916619471053 0.20696464389972788 0.13784369415316688 \n",
      "1.1814011007062984e-14 0.9935737644236262 0.0064262355763618885 \n",
      "#####Observation matrix######\n",
      "0.43738736516911203 0.36452728108157345 0.1980853537456902 3.6242029940031485e-12 \n",
      "0.08636460572533686 4.823445876659286e-16 0.06319560352393361 0.850439790750729 \n",
      "1.0579213044052854e-09 1.7837037443862464e-07 0.23853238485628928 0.7614674357154149 \n"
     ]
    }
   ],
   "source": [
    "transition_w2 = np.matrix([[0.4, 0.2, 0.4], \n",
    "               [0.7, 0.2, 0.1],\n",
    "               [0.5, 0.3, 0.2]])\n",
    "observation_w2 = np.matrix([[0.1, 0.1, 0.4, 0.4], \n",
    "               [0.1, 0.1, 0.4, 0.4],\n",
    "               [0.1, 0.2, 0.4, 0.3]])\n",
    "pie_w2 = np.array([0.33, 0.33, 0.33])\n",
    "\n",
    "n = 1\n",
    "while True:\n",
    "    trans_num = np.zeros((3,3))\n",
    "    trans_denom = np.zeros(3)\n",
    "    obs_num = np.zeros((3, 4))\n",
    "    obs_denom = np.zeros(3)\n",
    "    \n",
    "    prev_transition_w2 = np.copy(transition_w2)\n",
    "    prev_observation_w2 = np.copy(observation_w2)\n",
    "    prev_pie_w2 = np.copy(pie_w2)\n",
    "    pie_num = np.zeros(3)\n",
    "    pie_denom = 0\n",
    "    \n",
    "    for s in strs2:\n",
    "        trans_num_temp, trans_denom_temp, obs_num_temp, obs_denom_temp, pie_num_temp, pie_denom_temp = \n",
    "        parameter_estimation_per_string(s, transition_w2, observation_w2, pie_w2)\n",
    "        trans_num = np.add(trans_num, trans_num_temp)\n",
    "        trans_denom = np.add(trans_denom, trans_denom_temp)\n",
    "        obs_num = np.add(obs_num, obs_num_temp)\n",
    "        obs_denom = np.add(obs_denom, obs_denom_temp)\n",
    "        pie_num = np.add(pie_num, pie_num_temp)\n",
    "        pie_denom += pie_denom_temp\n",
    "        \n",
    "    for i in range(0, 3):\n",
    "        for j in range(0, 3):\n",
    "            transition_w2[i, j] = trans_num[i,j] / trans_denom[i]\n",
    "    for i in range(0, 3):\n",
    "        for j in range(0, 4):\n",
    "            observation_w2[i, j] = obs_num[i,j] / obs_denom[i]\n",
    "            \n",
    "    for i in range(0, 3):\n",
    "        pie_w2[i] =  pie_num[i] / pie_denom\n",
    "            \n",
    "    count = 0\n",
    "    \n",
    "    for i in range(0, 3):\n",
    "        for j in range(0, 3):\n",
    "            if abs(transition_w2[i,j] - prev_transition_w2[i, j]) <= threshold:\n",
    "                count = count+1\n",
    "    if(count/9 >= 0.95):\n",
    "        break\n",
    "    n += 1\n",
    "    \n",
    "print(\"Total Iterations : \", n)\n",
    "print(\"#####Transition matrix######\")\n",
    "for i in range(0,3):\n",
    "    for j in range(0,3):\n",
    "        print(transition_w2[i,j], end=\" \")\n",
    "    print()\n",
    "    \n",
    "print(\"#####Observation matrix######\")\n",
    "for i in range(0,3):\n",
    "    for j in range(0,4):\n",
    "        print(observation_w2[i,j], end=\" \")\n",
    "    print()\n"
   ]
  },
  {
   "cell_type": "code",
   "execution_count": 180,
   "metadata": {},
   "outputs": [],
   "source": [
    "###################### 2nd part ######################\n",
    "\n",
    "def probability_of_a_sequence(s1, trans, obs, p):\n",
    "    alpha = np.zeros((3, len(s1)))\n",
    "    for t, c in enumerate(s1):\n",
    "        for i in range(0,3):\n",
    "            if t == 0:\n",
    "                alpha[i,0] = p[i]*obs[i, chardict[s1[0]]]\n",
    "            else:\n",
    "                total_sum = 0\n",
    "                for j in range(0,3):\n",
    "                    total_sum += (alpha[j,t-1] * trans[j,i])\n",
    "                alpha[i,t] = obs[i,chardict[c]] * total_sum\n",
    "                \n",
    "    \n",
    "    total_prob = 0\n",
    "    T = len(s1)-1\n",
    "    for i in range(0,3):\n",
    "        total_prob += alpha[i, T]\n",
    "    return total_prob\n"
   ]
  },
  {
   "cell_type": "code",
   "execution_count": 181,
   "metadata": {},
   "outputs": [
    {
     "name": "stdout",
     "output_type": "stream",
     "text": [
      "prob_w1_given_ABBBCDDD =  0.0001777567076295973\n",
      "prob_w2_given_ABBBCDDD =  2.663726939368231e-05\n",
      "ABBBCDDD -> w1\n"
     ]
    }
   ],
   "source": [
    "p_w1 = 0.5\n",
    "p_w2 = 0.5\n",
    "        \n",
    "string1 = 'ABBBCDDD'\n",
    "prob_ABBBCDDD_given_w1 = probability_of_a_sequence(string1, transition_w1, observation_w1, pie_w1)\n",
    "prob_ABBBCDDD_given_w2 = probability_of_a_sequence(string1, transition_w2, observation_w2, pie_w2)\n",
    "prob_w1_given_ABBBCDDD = prob_ABBBCDDD_given_w1 * p_w1\n",
    "prob_w2_given_ABBBCDDD = prob_ABBBCDDD_given_w2 * p_w2\n",
    "\n",
    "print(\"prob_w1_given_ABBBCDDD = \", prob_w1_given_ABBBCDDD)\n",
    "print(\"prob_w2_given_ABBBCDDD = \", prob_w2_given_ABBBCDDD)\n",
    "print(\"ABBBCDDD -> w1\")"
   ]
  },
  {
   "cell_type": "code",
   "execution_count": 182,
   "metadata": {},
   "outputs": [
    {
     "name": "stdout",
     "output_type": "stream",
     "text": [
      "prob_w1_given_DADBCBAA =  1.1158941527173627e-15\n",
      "prob_w2_given_DADBCBAA =  5.028040225429016e-06\n",
      "DADBCBAA -> w2\n"
     ]
    }
   ],
   "source": [
    "p_w1 = 0.5\n",
    "p_w2 = 0.5\n",
    "\n",
    "string2 = 'DADBCBAA'\n",
    "prob_DADBCBAA_given_w1 = probability_of_a_sequence(string2, transition_w1, observation_w1, pie_w1)\n",
    "prob_DADBCBAA_given_w2 = probability_of_a_sequence(string2, transition_w2, observation_w2, pie_w2)\n",
    "\n",
    "prob_w1_given_DADBCBAA = prob_DADBCBAA_given_w1 * p_w1\n",
    "prob_w2_given_DADBCBAA = prob_DADBCBAA_given_w2 * p_w2\n",
    "\n",
    "print(\"prob_w1_given_DADBCBAA = \", prob_w1_given_DADBCBAA)\n",
    "print(\"prob_w2_given_DADBCBAA = \", prob_w2_given_DADBCBAA)\n",
    "print(\"DADBCBAA -> w2\")"
   ]
  },
  {
   "cell_type": "code",
   "execution_count": 183,
   "metadata": {},
   "outputs": [
    {
     "name": "stdout",
     "output_type": "stream",
     "text": [
      "prob_w1_given_CDCBABA =  2.5652851084480972e-11\n",
      "prob_w1_given_CDCBABA =  9.788943482592946e-05\n",
      "CDCBABA -> w2\n"
     ]
    }
   ],
   "source": [
    "p_w1 = 0.5\n",
    "p_w2 = 0.5\n",
    "\n",
    "string3 = 'CDCBABA' \n",
    "prob_CDCBABA_given_w1 = probability_of_a_sequence(string3, transition_w1, observation_w1, pie_w1)\n",
    "prob_CDCBABA_given_w2 = probability_of_a_sequence(string3, transition_w2, observation_w2, pie_w2)\n",
    "\n",
    "prob_w1_given_CDCBABA = prob_CDCBABA_given_w1 * p_w1\n",
    "prob_w2_given_CDCBABA = prob_CDCBABA_given_w2 * p_w2\n",
    "\n",
    "print(\"prob_w1_given_CDCBABA = \", prob_w1_given_CDCBABA)\n",
    "print(\"prob_w1_given_CDCBABA = \", prob_w2_given_CDCBABA)\n",
    "print(\"CDCBABA -> w2\")"
   ]
  },
  {
   "cell_type": "code",
   "execution_count": 184,
   "metadata": {},
   "outputs": [
    {
     "name": "stdout",
     "output_type": "stream",
     "text": [
      "prob_w1_given_ADBBBCD =  9.843372802544132e-05\n",
      "prob_w1_given_ADBBBCD =  1.6780406421376662e-12\n",
      "ADBBBCD -> w1\n"
     ]
    }
   ],
   "source": [
    "p_w1 = 0.5\n",
    "p_w2 = 0.5\n",
    "\n",
    "string4 = 'ADBBBCD'\n",
    "prob_ADBBBCD_given_w1 = probability_of_a_sequence(string4, transition_w1, observation_w1, pie_w1)\n",
    "prob_ADBBBCD_given_w2 = probability_of_a_sequence(string4, transition_w2, observation_w2, pie_w2)\n",
    "\n",
    "prob_w1_given_ADBBBCD = prob_ADBBBCD_given_w1 * p_w1\n",
    "prob_w2_given_ADBBBCD = prob_ADBBBCD_given_w2 * p_w2\n",
    "\n",
    "print(\"prob_w1_given_ADBBBCD = \", prob_w1_given_ADBBBCD)\n",
    "print(\"prob_w1_given_ADBBBCD = \", prob_w2_given_ADBBBCD)\n",
    "print(\"ADBBBCD -> w1\")"
   ]
  },
  {
   "cell_type": "code",
   "execution_count": 185,
   "metadata": {},
   "outputs": [
    {
     "name": "stdout",
     "output_type": "stream",
     "text": [
      "p(w1) =  5.94891580701867e-08\n",
      "p(w2) =  0.999999940510842\n"
     ]
    }
   ],
   "source": [
    "####################### 3rd part #######################\n",
    "\n",
    "#p_w1 + pw2 = 1\n",
    "test_str = 'BADBDCBA'\n",
    "prob_BADBDCBA_given_w1 = probability_of_a_sequence(test_str, transition_w1, observation_w1, pie_w1)\n",
    "prob_BADBDCBA_given_w2 = probability_of_a_sequence(test_str, transition_w2, observation_w2, pie_w2)\n",
    "ratio = prob_BADBDCBA_given_w2/prob_BADBDCBA_given_w1\n",
    "x = np.array([[1, -1*ratio], [1,1]])\n",
    "y = np.array([0, 1])\n",
    "s = np.linalg.solve(x, y)\n",
    "print(\"p(w1) = \",s[0])\n",
    "print(\"p(w2) = \",s[1])"
   ]
  },
  {
   "cell_type": "code",
   "execution_count": null,
   "metadata": {},
   "outputs": [],
   "source": []
  }
 ],
 "metadata": {
  "kernelspec": {
   "display_name": "Python 3",
   "language": "python",
   "name": "python3"
  },
  "language_info": {
   "codemirror_mode": {
    "name": "ipython",
    "version": 3
   },
   "file_extension": ".py",
   "mimetype": "text/x-python",
   "name": "python",
   "nbconvert_exporter": "python",
   "pygments_lexer": "ipython3",
   "version": "3.6.5"
  }
 },
 "nbformat": 4,
 "nbformat_minor": 2
}
